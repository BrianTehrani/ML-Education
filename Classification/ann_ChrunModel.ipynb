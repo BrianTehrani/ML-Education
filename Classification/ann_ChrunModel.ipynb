{
  "cells": [
    {
      "cell_type": "markdown",
      "metadata": {
        "colab_type": "text",
        "id": "lP6JLo1tGNBg"
      },
      "source": [
        "## Artificial Neural Network\n",
        "\n",
        "Project will use a toy dataset of bank members and determine if they will churn.\n",
        "The model will classify the churn rate of these bank members. \n",
        "The model constructed is a feed forward neural network.\n",
        "\n",
        "Dataset: *Churn_Modeling.csv*"
      ]
    },
    {
      "cell_type": "markdown",
      "metadata": {
        "colab_type": "text",
        "id": "gWZyYmS_UE_L"
      },
      "source": [
        "### Importing the libraries"
      ]
    },
    {
      "cell_type": "code",
      "execution_count": 26,
      "metadata": {
        "colab": {},
        "colab_type": "code",
        "id": "MxkJoQBkUIHC"
      },
      "outputs": [],
      "source": [
        "import numpy as np\n",
        "import pandas as pd\n",
        "import tensorflow as tf"
      ]
    },
    {
      "cell_type": "markdown",
      "metadata": {
        "colab_type": "text",
        "id": "1E0Q3aoKUCRX"
      },
      "source": [
        "### Part 1 - Data Preprocessing"
      ]
    },
    {
      "cell_type": "markdown",
      "metadata": {
        "colab_type": "text",
        "id": "cKWAkFVGUU0Z"
      },
      "source": [
        "#### Importing the dataset"
      ]
    },
    {
      "cell_type": "code",
      "execution_count": 27,
      "metadata": {},
      "outputs": [
        {
          "data": {
            "text/html": [
              "<div>\n",
              "<style scoped>\n",
              "    .dataframe tbody tr th:only-of-type {\n",
              "        vertical-align: middle;\n",
              "    }\n",
              "\n",
              "    .dataframe tbody tr th {\n",
              "        vertical-align: top;\n",
              "    }\n",
              "\n",
              "    .dataframe thead th {\n",
              "        text-align: right;\n",
              "    }\n",
              "</style>\n",
              "<table border=\"1\" class=\"dataframe\">\n",
              "  <thead>\n",
              "    <tr style=\"text-align: right;\">\n",
              "      <th></th>\n",
              "      <th>RowNumber</th>\n",
              "      <th>CustomerId</th>\n",
              "      <th>Surname</th>\n",
              "      <th>CreditScore</th>\n",
              "      <th>Geography</th>\n",
              "      <th>Gender</th>\n",
              "      <th>Age</th>\n",
              "      <th>Tenure</th>\n",
              "      <th>Balance</th>\n",
              "      <th>NumOfProducts</th>\n",
              "      <th>HasCrCard</th>\n",
              "      <th>IsActiveMember</th>\n",
              "      <th>EstimatedSalary</th>\n",
              "      <th>Exited</th>\n",
              "    </tr>\n",
              "  </thead>\n",
              "  <tbody>\n",
              "    <tr>\n",
              "      <th>0</th>\n",
              "      <td>1</td>\n",
              "      <td>15634602</td>\n",
              "      <td>Hargrave</td>\n",
              "      <td>619</td>\n",
              "      <td>France</td>\n",
              "      <td>Female</td>\n",
              "      <td>42</td>\n",
              "      <td>2</td>\n",
              "      <td>0.00</td>\n",
              "      <td>1</td>\n",
              "      <td>1</td>\n",
              "      <td>1</td>\n",
              "      <td>101348.88</td>\n",
              "      <td>1</td>\n",
              "    </tr>\n",
              "    <tr>\n",
              "      <th>1</th>\n",
              "      <td>2</td>\n",
              "      <td>15647311</td>\n",
              "      <td>Hill</td>\n",
              "      <td>608</td>\n",
              "      <td>Spain</td>\n",
              "      <td>Female</td>\n",
              "      <td>41</td>\n",
              "      <td>1</td>\n",
              "      <td>83807.86</td>\n",
              "      <td>1</td>\n",
              "      <td>0</td>\n",
              "      <td>1</td>\n",
              "      <td>112542.58</td>\n",
              "      <td>0</td>\n",
              "    </tr>\n",
              "    <tr>\n",
              "      <th>2</th>\n",
              "      <td>3</td>\n",
              "      <td>15619304</td>\n",
              "      <td>Onio</td>\n",
              "      <td>502</td>\n",
              "      <td>France</td>\n",
              "      <td>Female</td>\n",
              "      <td>42</td>\n",
              "      <td>8</td>\n",
              "      <td>159660.80</td>\n",
              "      <td>3</td>\n",
              "      <td>1</td>\n",
              "      <td>0</td>\n",
              "      <td>113931.57</td>\n",
              "      <td>1</td>\n",
              "    </tr>\n",
              "    <tr>\n",
              "      <th>3</th>\n",
              "      <td>4</td>\n",
              "      <td>15701354</td>\n",
              "      <td>Boni</td>\n",
              "      <td>699</td>\n",
              "      <td>France</td>\n",
              "      <td>Female</td>\n",
              "      <td>39</td>\n",
              "      <td>1</td>\n",
              "      <td>0.00</td>\n",
              "      <td>2</td>\n",
              "      <td>0</td>\n",
              "      <td>0</td>\n",
              "      <td>93826.63</td>\n",
              "      <td>0</td>\n",
              "    </tr>\n",
              "    <tr>\n",
              "      <th>4</th>\n",
              "      <td>5</td>\n",
              "      <td>15737888</td>\n",
              "      <td>Mitchell</td>\n",
              "      <td>850</td>\n",
              "      <td>Spain</td>\n",
              "      <td>Female</td>\n",
              "      <td>43</td>\n",
              "      <td>2</td>\n",
              "      <td>125510.82</td>\n",
              "      <td>1</td>\n",
              "      <td>1</td>\n",
              "      <td>1</td>\n",
              "      <td>79084.10</td>\n",
              "      <td>0</td>\n",
              "    </tr>\n",
              "  </tbody>\n",
              "</table>\n",
              "</div>"
            ],
            "text/plain": [
              "   RowNumber  CustomerId   Surname  CreditScore Geography  Gender  Age  \\\n",
              "0          1    15634602  Hargrave          619    France  Female   42   \n",
              "1          2    15647311      Hill          608     Spain  Female   41   \n",
              "2          3    15619304      Onio          502    France  Female   42   \n",
              "3          4    15701354      Boni          699    France  Female   39   \n",
              "4          5    15737888  Mitchell          850     Spain  Female   43   \n",
              "\n",
              "   Tenure    Balance  NumOfProducts  HasCrCard  IsActiveMember  \\\n",
              "0       2       0.00              1          1               1   \n",
              "1       1   83807.86              1          0               1   \n",
              "2       8  159660.80              3          1               0   \n",
              "3       1       0.00              2          0               0   \n",
              "4       2  125510.82              1          1               1   \n",
              "\n",
              "   EstimatedSalary  Exited  \n",
              "0        101348.88       1  \n",
              "1        112542.58       0  \n",
              "2        113931.57       1  \n",
              "3         93826.63       0  \n",
              "4         79084.10       0  "
            ]
          },
          "execution_count": 27,
          "metadata": {},
          "output_type": "execute_result"
        }
      ],
      "source": [
        "dataset = pd.read_csv('Churn_Modelling.csv')\n",
        "X = dataset.iloc[:, 3:-1].values\n",
        "y = dataset.iloc[:, -1].values\n",
        "dataset.head()"
      ]
    },
    {
      "cell_type": "code",
      "execution_count": 28,
      "metadata": {},
      "outputs": [
        {
          "name": "stdout",
          "output_type": "stream",
          "text": [
            "First 5 sample parameters: \n",
            "1  |  [619 'France' 'Female' 42 2 0.0 1 1 1 101348.88]\n",
            "0  |  [608 'Spain' 'Female' 41 1 83807.86 1 0 1 112542.58]\n",
            "1  |  [502 'France' 'Female' 42 8 159660.8 3 1 0 113931.57]\n",
            "0  |  [699 'France' 'Female' 39 1 0.0 2 0 0 93826.63]\n",
            "0  |  [850 'Spain' 'Female' 43 2 125510.82 1 1 1 79084.1]\n"
          ]
        }
      ],
      "source": [
        "print(\"First 5 sample parameters: \")\n",
        "for i, sample in enumerate(X[:5]):\n",
        "    print(y[i], \" | \" , sample)"
      ]
    },
    {
      "cell_type": "markdown",
      "metadata": {
        "colab_type": "text",
        "id": "N6bQ0UgSU-NJ"
      },
      "source": [
        "#### Encoding categorical data"
      ]
    },
    {
      "cell_type": "markdown",
      "metadata": {
        "colab_type": "text",
        "id": "le5MJreAbW52"
      },
      "source": [
        "Label Encoding the \"Gender\" column"
      ]
    },
    {
      "cell_type": "code",
      "execution_count": 29,
      "metadata": {},
      "outputs": [],
      "source": [
        "from sklearn.preprocessing import LabelEncoder, OneHotEncoder\n",
        "le = LabelEncoder()\n",
        "X[:, 2] = le.fit_transform(X[:, 2])"
      ]
    },
    {
      "cell_type": "markdown",
      "metadata": {
        "colab_type": "text",
        "id": "CUxGZezpbMcb"
      },
      "source": [
        "One Hot Encoding the \"Geography\" column"
      ]
    },
    {
      "cell_type": "code",
      "execution_count": 31,
      "metadata": {},
      "outputs": [],
      "source": [
        "from sklearn.compose import ColumnTransformer\n",
        "ct = ColumnTransformer(transformers=[('encoder', OneHotEncoder(), [1])], remainder='passthrough')\n",
        "X = np.array(ct.fit_transform(X))"
      ]
    },
    {
      "cell_type": "markdown",
      "metadata": {
        "colab_type": "text",
        "id": "vHol938cW8zd"
      },
      "source": [
        "### Splitting the dataset into the Training set and Test set"
      ]
    },
    {
      "cell_type": "code",
      "execution_count": 33,
      "metadata": {},
      "outputs": [],
      "source": [
        "from sklearn.model_selection import train_test_split\n",
        "X_train, X_test, y_train, y_test = train_test_split(X, y, test_size=0.2, random_state=0)"
      ]
    },
    {
      "cell_type": "markdown",
      "metadata": {
        "colab_type": "text",
        "id": "RE_FcHyfV3TQ"
      },
      "source": [
        "### Feature Scaling"
      ]
    },
    {
      "cell_type": "code",
      "execution_count": 63,
      "metadata": {},
      "outputs": [],
      "source": [
        "from sklearn.preprocessing import StandardScaler\n",
        "sc = StandardScaler()\n",
        "X_train = sc.fit_transform(X_train)\n",
        "X_test = sc.transform(X_test)"
      ]
    },
    {
      "cell_type": "markdown",
      "metadata": {
        "colab_type": "text",
        "id": "-zfEzkRVXIwF"
      },
      "source": [
        "### Part 2 - Building the ANN"
      ]
    },
    {
      "cell_type": "code",
      "execution_count": 64,
      "metadata": {},
      "outputs": [],
      "source": [
        "hidden_units = 16\n",
        "\n",
        "ann = tf.keras.models.Sequential([\n",
        "    tf.keras.layers.Dense(units=hidden_units, activation='relu'),\n",
        "    tf.keras.layers.Dense(units=hidden_units, activation='relu'),\n",
        "    tf.keras.layers.Dense(units=1, activation='sigmoid')\n",
        "])"
      ]
    },
    {
      "cell_type": "markdown",
      "metadata": {
        "colab_type": "text",
        "id": "JT4u2S1_Y4WG"
      },
      "source": [
        "### Part 3 - Training the ANN"
      ]
    },
    {
      "cell_type": "markdown",
      "metadata": {
        "colab_type": "text",
        "id": "8GWlJChhY_ZI"
      },
      "source": [
        "#### Compiling the ANN"
      ]
    },
    {
      "cell_type": "code",
      "execution_count": 65,
      "metadata": {},
      "outputs": [],
      "source": [
        "ann.compile(optimizer='adam', loss= 'binary_crossentropy', metrics=['accuracy'])"
      ]
    },
    {
      "cell_type": "markdown",
      "metadata": {
        "colab_type": "text",
        "id": "0QR_G5u7ZLSM"
      },
      "source": [
        "#### Training the ANN on the Training set"
      ]
    },
    {
      "cell_type": "code",
      "execution_count": 66,
      "metadata": {},
      "outputs": [
        {
          "name": "stdout",
          "output_type": "stream",
          "text": [
            "Epoch 1/100\n",
            "250/250 [==============================] - 1s 1ms/step - loss: 0.4967 - accuracy: 0.7905 - val_loss: 0.4421 - val_accuracy: 0.8060\n",
            "Epoch 2/100\n",
            "250/250 [==============================] - 0s 944us/step - loss: 0.4327 - accuracy: 0.8101 - val_loss: 0.4193 - val_accuracy: 0.8230\n",
            "Epoch 3/100\n",
            "250/250 [==============================] - 0s 926us/step - loss: 0.4178 - accuracy: 0.8170 - val_loss: 0.4085 - val_accuracy: 0.8255\n",
            "Epoch 4/100\n",
            "250/250 [==============================] - 0s 911us/step - loss: 0.4064 - accuracy: 0.8236 - val_loss: 0.3953 - val_accuracy: 0.8335\n",
            "Epoch 5/100\n",
            "250/250 [==============================] - 0s 2ms/step - loss: 0.3962 - accuracy: 0.8282 - val_loss: 0.3849 - val_accuracy: 0.8440\n",
            "Epoch 6/100\n",
            "250/250 [==============================] - 0s 928us/step - loss: 0.3839 - accuracy: 0.8376 - val_loss: 0.3743 - val_accuracy: 0.8410\n",
            "Epoch 7/100\n",
            "250/250 [==============================] - 0s 913us/step - loss: 0.3712 - accuracy: 0.8464 - val_loss: 0.3599 - val_accuracy: 0.8525\n",
            "Epoch 8/100\n",
            "250/250 [==============================] - 0s 917us/step - loss: 0.3580 - accuracy: 0.8533 - val_loss: 0.3490 - val_accuracy: 0.8610\n",
            "Epoch 9/100\n",
            "250/250 [==============================] - 0s 917us/step - loss: 0.3506 - accuracy: 0.8568 - val_loss: 0.3462 - val_accuracy: 0.8605\n",
            "Epoch 10/100\n",
            "250/250 [==============================] - 0s 979us/step - loss: 0.3465 - accuracy: 0.8579 - val_loss: 0.3464 - val_accuracy: 0.8550\n",
            "Epoch 11/100\n",
            "250/250 [==============================] - 0s 908us/step - loss: 0.3433 - accuracy: 0.8591 - val_loss: 0.3403 - val_accuracy: 0.8625\n",
            "Epoch 12/100\n",
            "250/250 [==============================] - 0s 925us/step - loss: 0.3412 - accuracy: 0.8584 - val_loss: 0.3387 - val_accuracy: 0.8625\n",
            "Epoch 13/100\n",
            "250/250 [==============================] - 0s 949us/step - loss: 0.3394 - accuracy: 0.8611 - val_loss: 0.3379 - val_accuracy: 0.8595\n",
            "Epoch 14/100\n",
            "250/250 [==============================] - 0s 921us/step - loss: 0.3370 - accuracy: 0.8620 - val_loss: 0.3395 - val_accuracy: 0.8625\n",
            "Epoch 15/100\n",
            "250/250 [==============================] - 0s 993us/step - loss: 0.3359 - accuracy: 0.8619 - val_loss: 0.3438 - val_accuracy: 0.8535\n",
            "Epoch 16/100\n",
            "250/250 [==============================] - 0s 921us/step - loss: 0.3350 - accuracy: 0.8629 - val_loss: 0.3428 - val_accuracy: 0.8535\n",
            "Epoch 17/100\n",
            "250/250 [==============================] - 0s 911us/step - loss: 0.3346 - accuracy: 0.8610 - val_loss: 0.3371 - val_accuracy: 0.8600\n",
            "Epoch 18/100\n",
            "250/250 [==============================] - 0s 929us/step - loss: 0.3338 - accuracy: 0.8616 - val_loss: 0.3394 - val_accuracy: 0.8555\n",
            "Epoch 19/100\n",
            "250/250 [==============================] - 0s 982us/step - loss: 0.3329 - accuracy: 0.8619 - val_loss: 0.3403 - val_accuracy: 0.8560\n",
            "Epoch 20/100\n",
            "250/250 [==============================] - 0s 935us/step - loss: 0.3322 - accuracy: 0.8634 - val_loss: 0.3382 - val_accuracy: 0.8545\n",
            "Epoch 21/100\n",
            "250/250 [==============================] - 0s 939us/step - loss: 0.3314 - accuracy: 0.8618 - val_loss: 0.3378 - val_accuracy: 0.8570\n",
            "Epoch 22/100\n",
            "250/250 [==============================] - 0s 921us/step - loss: 0.3305 - accuracy: 0.8627 - val_loss: 0.3364 - val_accuracy: 0.8585\n",
            "Epoch 23/100\n",
            "250/250 [==============================] - 0s 979us/step - loss: 0.3299 - accuracy: 0.8645 - val_loss: 0.3349 - val_accuracy: 0.8635\n",
            "Epoch 24/100\n",
            "250/250 [==============================] - 0s 927us/step - loss: 0.3294 - accuracy: 0.8641 - val_loss: 0.3404 - val_accuracy: 0.8535\n",
            "Epoch 25/100\n",
            "250/250 [==============================] - 0s 927us/step - loss: 0.3285 - accuracy: 0.8641 - val_loss: 0.3371 - val_accuracy: 0.8565\n",
            "Epoch 26/100\n",
            "250/250 [==============================] - 0s 919us/step - loss: 0.3283 - accuracy: 0.8626 - val_loss: 0.3359 - val_accuracy: 0.8600\n",
            "Epoch 27/100\n",
            "250/250 [==============================] - 0s 915us/step - loss: 0.3281 - accuracy: 0.8643 - val_loss: 0.3342 - val_accuracy: 0.8635\n",
            "Epoch 28/100\n",
            "250/250 [==============================] - 0s 975us/step - loss: 0.3274 - accuracy: 0.8634 - val_loss: 0.3365 - val_accuracy: 0.8565\n",
            "Epoch 29/100\n",
            "250/250 [==============================] - 0s 909us/step - loss: 0.3270 - accuracy: 0.8658 - val_loss: 0.3353 - val_accuracy: 0.8585\n",
            "Epoch 30/100\n",
            "250/250 [==============================] - 0s 918us/step - loss: 0.3261 - accuracy: 0.8652 - val_loss: 0.3396 - val_accuracy: 0.8555\n",
            "Epoch 31/100\n",
            "250/250 [==============================] - 0s 926us/step - loss: 0.3259 - accuracy: 0.8652 - val_loss: 0.3361 - val_accuracy: 0.8660\n",
            "Epoch 32/100\n",
            "250/250 [==============================] - 0s 902us/step - loss: 0.3257 - accuracy: 0.8660 - val_loss: 0.3323 - val_accuracy: 0.8620\n",
            "Epoch 33/100\n",
            "250/250 [==============================] - 0s 961us/step - loss: 0.3255 - accuracy: 0.8650 - val_loss: 0.3397 - val_accuracy: 0.8500\n",
            "Epoch 34/100\n",
            "250/250 [==============================] - 0s 902us/step - loss: 0.3254 - accuracy: 0.8649 - val_loss: 0.3364 - val_accuracy: 0.8590\n",
            "Epoch 35/100\n",
            "250/250 [==============================] - 0s 892us/step - loss: 0.3247 - accuracy: 0.8660 - val_loss: 0.3341 - val_accuracy: 0.8590\n",
            "Epoch 36/100\n",
            "250/250 [==============================] - 0s 991us/step - loss: 0.3242 - accuracy: 0.8670 - val_loss: 0.3353 - val_accuracy: 0.8590\n",
            "Epoch 37/100\n",
            "250/250 [==============================] - 0s 986us/step - loss: 0.3237 - accuracy: 0.8677 - val_loss: 0.3365 - val_accuracy: 0.8550\n",
            "Epoch 38/100\n",
            "250/250 [==============================] - 0s 900us/step - loss: 0.3234 - accuracy: 0.8670 - val_loss: 0.3322 - val_accuracy: 0.8625\n",
            "Epoch 39/100\n",
            "250/250 [==============================] - 0s 977us/step - loss: 0.3239 - accuracy: 0.8670 - val_loss: 0.3328 - val_accuracy: 0.8590\n",
            "Epoch 40/100\n",
            "250/250 [==============================] - 0s 923us/step - loss: 0.3226 - accuracy: 0.8686 - val_loss: 0.3355 - val_accuracy: 0.8630\n",
            "Epoch 41/100\n",
            "250/250 [==============================] - 0s 1ms/step - loss: 0.3229 - accuracy: 0.8669 - val_loss: 0.3334 - val_accuracy: 0.8590\n",
            "Epoch 42/100\n",
            "250/250 [==============================] - 0s 1ms/step - loss: 0.3230 - accuracy: 0.8659 - val_loss: 0.3343 - val_accuracy: 0.8600\n",
            "Epoch 43/100\n",
            "250/250 [==============================] - 0s 911us/step - loss: 0.3221 - accuracy: 0.8669 - val_loss: 0.3371 - val_accuracy: 0.8520\n",
            "Epoch 44/100\n",
            "250/250 [==============================] - 0s 921us/step - loss: 0.3216 - accuracy: 0.8673 - val_loss: 0.3386 - val_accuracy: 0.8525\n",
            "Epoch 45/100\n",
            "250/250 [==============================] - 0s 918us/step - loss: 0.3210 - accuracy: 0.8679 - val_loss: 0.3334 - val_accuracy: 0.8635\n",
            "Epoch 46/100\n",
            "250/250 [==============================] - 0s 972us/step - loss: 0.3217 - accuracy: 0.8674 - val_loss: 0.3351 - val_accuracy: 0.8575\n",
            "Epoch 47/100\n",
            "250/250 [==============================] - 0s 912us/step - loss: 0.3206 - accuracy: 0.8680 - val_loss: 0.3332 - val_accuracy: 0.8575\n",
            "Epoch 48/100\n",
            "250/250 [==============================] - 0s 922us/step - loss: 0.3206 - accuracy: 0.8698 - val_loss: 0.3354 - val_accuracy: 0.8565\n",
            "Epoch 49/100\n",
            "250/250 [==============================] - 0s 913us/step - loss: 0.3202 - accuracy: 0.8692 - val_loss: 0.3347 - val_accuracy: 0.8580\n",
            "Epoch 50/100\n",
            "250/250 [==============================] - 0s 1ms/step - loss: 0.3203 - accuracy: 0.8683 - val_loss: 0.3347 - val_accuracy: 0.8605\n",
            "Epoch 51/100\n",
            "250/250 [==============================] - 0s 917us/step - loss: 0.3204 - accuracy: 0.8681 - val_loss: 0.3328 - val_accuracy: 0.8630\n",
            "Epoch 52/100\n",
            "250/250 [==============================] - 0s 909us/step - loss: 0.3198 - accuracy: 0.8694 - val_loss: 0.3327 - val_accuracy: 0.8600\n",
            "Epoch 53/100\n",
            "250/250 [==============================] - 0s 919us/step - loss: 0.3190 - accuracy: 0.8690 - val_loss: 0.3396 - val_accuracy: 0.8550\n",
            "Epoch 54/100\n",
            "250/250 [==============================] - 0s 993us/step - loss: 0.3195 - accuracy: 0.8691 - val_loss: 0.3328 - val_accuracy: 0.8605\n",
            "Epoch 55/100\n",
            "250/250 [==============================] - 0s 911us/step - loss: 0.3188 - accuracy: 0.8686 - val_loss: 0.3363 - val_accuracy: 0.8575\n",
            "Epoch 56/100\n",
            "250/250 [==============================] - 0s 923us/step - loss: 0.3188 - accuracy: 0.8685 - val_loss: 0.3330 - val_accuracy: 0.8600\n",
            "Epoch 57/100\n",
            "250/250 [==============================] - 0s 961us/step - loss: 0.3182 - accuracy: 0.8686 - val_loss: 0.3328 - val_accuracy: 0.8600\n",
            "Epoch 58/100\n",
            "250/250 [==============================] - 0s 952us/step - loss: 0.3177 - accuracy: 0.8705 - val_loss: 0.3342 - val_accuracy: 0.8600\n",
            "Epoch 59/100\n",
            "250/250 [==============================] - 0s 1ms/step - loss: 0.3180 - accuracy: 0.8689 - val_loss: 0.3330 - val_accuracy: 0.8585\n",
            "Epoch 60/100\n",
            "250/250 [==============================] - 0s 941us/step - loss: 0.3180 - accuracy: 0.8709 - val_loss: 0.3352 - val_accuracy: 0.8590\n",
            "Epoch 61/100\n",
            "250/250 [==============================] - 0s 917us/step - loss: 0.3173 - accuracy: 0.8701 - val_loss: 0.3376 - val_accuracy: 0.8555\n",
            "Epoch 62/100\n",
            "250/250 [==============================] - 0s 959us/step - loss: 0.3176 - accuracy: 0.8696 - val_loss: 0.3359 - val_accuracy: 0.8580\n",
            "Epoch 63/100\n",
            "250/250 [==============================] - 0s 916us/step - loss: 0.3168 - accuracy: 0.8691 - val_loss: 0.3354 - val_accuracy: 0.8595\n",
            "Epoch 64/100\n",
            "250/250 [==============================] - 0s 974us/step - loss: 0.3173 - accuracy: 0.8711 - val_loss: 0.3348 - val_accuracy: 0.8595\n",
            "Epoch 65/100\n",
            "250/250 [==============================] - 0s 928us/step - loss: 0.3172 - accuracy: 0.8705 - val_loss: 0.3345 - val_accuracy: 0.8590\n",
            "Epoch 66/100\n",
            "250/250 [==============================] - 0s 928us/step - loss: 0.3160 - accuracy: 0.8714 - val_loss: 0.3346 - val_accuracy: 0.8575\n",
            "Epoch 67/100\n",
            "250/250 [==============================] - 0s 1ms/step - loss: 0.3170 - accuracy: 0.8692 - val_loss: 0.3347 - val_accuracy: 0.8570\n",
            "Epoch 68/100\n",
            "250/250 [==============================] - 0s 926us/step - loss: 0.3167 - accuracy: 0.8705 - val_loss: 0.3335 - val_accuracy: 0.8570\n",
            "Epoch 69/100\n",
            "250/250 [==============================] - 0s 997us/step - loss: 0.3162 - accuracy: 0.8706 - val_loss: 0.3330 - val_accuracy: 0.8585\n",
            "Epoch 70/100\n",
            "250/250 [==============================] - 0s 1ms/step - loss: 0.3165 - accuracy: 0.8691 - val_loss: 0.3339 - val_accuracy: 0.8575\n",
            "Epoch 71/100\n",
            "250/250 [==============================] - 0s 955us/step - loss: 0.3158 - accuracy: 0.8699 - val_loss: 0.3373 - val_accuracy: 0.8555\n",
            "Epoch 72/100\n",
            "250/250 [==============================] - 0s 933us/step - loss: 0.3158 - accuracy: 0.8685 - val_loss: 0.3404 - val_accuracy: 0.8525\n",
            "Epoch 73/100\n",
            "250/250 [==============================] - 0s 925us/step - loss: 0.3160 - accuracy: 0.8680 - val_loss: 0.3338 - val_accuracy: 0.8555\n",
            "Epoch 74/100\n",
            "250/250 [==============================] - 0s 1ms/step - loss: 0.3150 - accuracy: 0.8714 - val_loss: 0.3354 - val_accuracy: 0.8535\n",
            "Epoch 75/100\n",
            "250/250 [==============================] - 0s 945us/step - loss: 0.3161 - accuracy: 0.8694 - val_loss: 0.3349 - val_accuracy: 0.8570\n",
            "Epoch 76/100\n",
            "250/250 [==============================] - 0s 924us/step - loss: 0.3148 - accuracy: 0.8699 - val_loss: 0.3319 - val_accuracy: 0.8595\n",
            "Epoch 77/100\n",
            "250/250 [==============================] - 0s 905us/step - loss: 0.3155 - accuracy: 0.8691 - val_loss: 0.3318 - val_accuracy: 0.8610\n",
            "Epoch 78/100\n",
            "250/250 [==============================] - 0s 994us/step - loss: 0.3150 - accuracy: 0.8715 - val_loss: 0.3327 - val_accuracy: 0.8615\n",
            "Epoch 79/100\n",
            "250/250 [==============================] - 0s 975us/step - loss: 0.3150 - accuracy: 0.8692 - val_loss: 0.3359 - val_accuracy: 0.8550\n",
            "Epoch 80/100\n",
            "250/250 [==============================] - 0s 934us/step - loss: 0.3143 - accuracy: 0.8694 - val_loss: 0.3355 - val_accuracy: 0.8540\n",
            "Epoch 81/100\n",
            "250/250 [==============================] - 0s 1ms/step - loss: 0.3142 - accuracy: 0.8704 - val_loss: 0.3363 - val_accuracy: 0.8560\n",
            "Epoch 82/100\n",
            "250/250 [==============================] - 0s 916us/step - loss: 0.3147 - accuracy: 0.8690 - val_loss: 0.3348 - val_accuracy: 0.8575\n",
            "Epoch 83/100\n",
            "250/250 [==============================] - 0s 935us/step - loss: 0.3146 - accuracy: 0.8721 - val_loss: 0.3342 - val_accuracy: 0.8580\n",
            "Epoch 84/100\n",
            "250/250 [==============================] - 0s 913us/step - loss: 0.3140 - accuracy: 0.8695 - val_loss: 0.3354 - val_accuracy: 0.8595\n",
            "Epoch 85/100\n",
            "250/250 [==============================] - 0s 927us/step - loss: 0.3143 - accuracy: 0.8708 - val_loss: 0.3349 - val_accuracy: 0.8570\n",
            "Epoch 86/100\n",
            "250/250 [==============================] - 0s 1ms/step - loss: 0.3141 - accuracy: 0.8694 - val_loss: 0.3339 - val_accuracy: 0.8595\n",
            "Epoch 87/100\n",
            "250/250 [==============================] - 0s 948us/step - loss: 0.3142 - accuracy: 0.8695 - val_loss: 0.3333 - val_accuracy: 0.8575\n",
            "Epoch 88/100\n",
            "250/250 [==============================] - 0s 963us/step - loss: 0.3131 - accuracy: 0.8712 - val_loss: 0.3403 - val_accuracy: 0.8495\n",
            "Epoch 89/100\n",
            "250/250 [==============================] - 0s 980us/step - loss: 0.3143 - accuracy: 0.8687 - val_loss: 0.3380 - val_accuracy: 0.8515\n",
            "Epoch 90/100\n",
            "250/250 [==============================] - 0s 938us/step - loss: 0.3136 - accuracy: 0.8696 - val_loss: 0.3403 - val_accuracy: 0.8495\n",
            "Epoch 91/100\n",
            "250/250 [==============================] - 0s 932us/step - loss: 0.3133 - accuracy: 0.8712 - val_loss: 0.3365 - val_accuracy: 0.8565\n",
            "Epoch 92/100\n",
            "250/250 [==============================] - 0s 957us/step - loss: 0.3134 - accuracy: 0.8701 - val_loss: 0.3326 - val_accuracy: 0.8595\n",
            "Epoch 93/100\n",
            "250/250 [==============================] - 0s 973us/step - loss: 0.3131 - accuracy: 0.8691 - val_loss: 0.3326 - val_accuracy: 0.8605\n",
            "Epoch 94/100\n",
            "250/250 [==============================] - 0s 904us/step - loss: 0.3129 - accuracy: 0.8709 - val_loss: 0.3322 - val_accuracy: 0.8595\n",
            "Epoch 95/100\n",
            "250/250 [==============================] - 0s 893us/step - loss: 0.3135 - accuracy: 0.8702 - val_loss: 0.3343 - val_accuracy: 0.8575\n",
            "Epoch 96/100\n",
            "250/250 [==============================] - 0s 917us/step - loss: 0.3124 - accuracy: 0.8714 - val_loss: 0.3377 - val_accuracy: 0.8545\n",
            "Epoch 97/100\n",
            "250/250 [==============================] - 0s 995us/step - loss: 0.3118 - accuracy: 0.8709 - val_loss: 0.3380 - val_accuracy: 0.8555\n",
            "Epoch 98/100\n",
            "250/250 [==============================] - 0s 914us/step - loss: 0.3125 - accuracy: 0.8706 - val_loss: 0.3355 - val_accuracy: 0.8560\n",
            "Epoch 99/100\n",
            "250/250 [==============================] - 0s 919us/step - loss: 0.3130 - accuracy: 0.8724 - val_loss: 0.3346 - val_accuracy: 0.8575\n",
            "Epoch 100/100\n",
            "250/250 [==============================] - 0s 924us/step - loss: 0.3120 - accuracy: 0.8716 - val_loss: 0.3381 - val_accuracy: 0.8555\n"
          ]
        }
      ],
      "source": [
        "history = ann.fit(X_train, y_train, batch_size = 32, epochs=100, validation_data=(X_test, y_test))"
      ]
    },
    {
      "cell_type": "markdown",
      "metadata": {
        "colab_type": "text",
        "id": "tJj5k2MxZga3"
      },
      "source": [
        "### Part 4 - Making the predictions and evaluating the model"
      ]
    },
    {
      "cell_type": "markdown",
      "metadata": {
        "colab_type": "text",
        "id": "84QFoqGYeXHL"
      },
      "source": [
        "#### Predicting the result of a single observation"
      ]
    },
    {
      "cell_type": "markdown",
      "metadata": {
        "colab_type": "text",
        "id": "CGRo3eacgDdC"
      },
      "source": [
        "**Homework**\n",
        "\n",
        "Use our ANN model to predict if the customer with the following informations will leave the bank: \n",
        "\n",
        "Geography: France\n",
        "\n",
        "Credit Score: 600\n",
        "\n",
        "Gender: Male\n",
        "\n",
        "Age: 40 years old\n",
        "\n",
        "Tenure: 3 years\n",
        "\n",
        "Balance: \\$ 60000\n",
        "\n",
        "Number of Products: 2\n",
        "\n",
        "Does this customer have a credit card ? Yes\n",
        "\n",
        "Is this customer an Active Member: Yes\n",
        "\n",
        "Estimated Salary: \\$ 50000\n",
        "\n",
        "So, should we say goodbye to that customer ?"
      ]
    },
    {
      "cell_type": "markdown",
      "metadata": {
        "colab_type": "text",
        "id": "ZhU1LTgPg-kH"
      },
      "source": [
        "**Solution**"
      ]
    },
    {
      "cell_type": "code",
      "execution_count": 67,
      "metadata": {},
      "outputs": [
        {
          "name": "stdout",
          "output_type": "stream",
          "text": [
            "1/1 [==============================] - 0s 36ms/step\n",
            "[[False]]\n"
          ]
        }
      ],
      "source": [
        "print(ann.predict(sc.transform([[1.0, 0.0, 0.0, 600, 1, 40, 3, 60000, 2, 1, 1, 50000]])) > 0.5)"
      ]
    },
    {
      "cell_type": "markdown",
      "metadata": {
        "colab_type": "text",
        "id": "wGjx94g2n7OV"
      },
      "source": [
        "Therefore, our ANN model predicts that this customer stays in the bank!\n",
        "\n",
        "**Important note 1:** Notice that the values of the features were all input in a double pair of square brackets. That's because the \"predict\" method always expects a 2D array as the format of its inputs. And putting our values into a double pair of square brackets makes the input exactly a 2D array.\n",
        "\n",
        "**Important note 2:** Notice also that the \"France\" country was not input as a string in the last column but as \"1, 0, 0\" in the first three columns. That's because of course the predict method expects the one-hot-encoded values of the state, and as we see in the first row of the matrix of features X, \"France\" was encoded as \"1, 0, 0\". And be careful to include these values in the first three columns, because the dummy variables are always created in the first columns."
      ]
    },
    {
      "cell_type": "markdown",
      "metadata": {
        "colab_type": "text",
        "id": "u7yx47jPZt11"
      },
      "source": [
        "#### Predicting the Test set results"
      ]
    },
    {
      "cell_type": "code",
      "execution_count": 68,
      "metadata": {},
      "outputs": [
        {
          "name": "stdout",
          "output_type": "stream",
          "text": [
            "63/63 [==============================] - 0s 653us/step\n",
            "First 5 sample predictions vs.  actuals: \n",
            " [[0 0]\n",
            " [0 1]\n",
            " [0 0]\n",
            " [0 0]\n",
            " [0 0]]\n"
          ]
        }
      ],
      "source": [
        "y_pred = ann.predict(X_test)\n",
        "y_pred = (y_pred > 0.5)\n",
        "\n",
        "y_compare = np.concatenate((y_pred.reshape(len(y_pred), 1), y_test.reshape(len(y_test), 1)),1)\n",
        "print(\"First 5 sample predictions vs.  actuals: \\n\", y_compare[:5])"
      ]
    },
    {
      "cell_type": "markdown",
      "metadata": {
        "colab_type": "text",
        "id": "o0oyfLWoaEGw"
      },
      "source": [
        "#### Making the Confusion Matrix"
      ]
    },
    {
      "cell_type": "code",
      "execution_count": 69,
      "metadata": {},
      "outputs": [
        {
          "name": "stdout",
          "output_type": "stream",
          "text": [
            "Confusion Matrix: \n",
            " [[1495  100]\n",
            " [ 189  216]]\n",
            "Model accuracy:  0.8555\n"
          ]
        }
      ],
      "source": [
        "from sklearn.metrics import confusion_matrix, accuracy_score\n",
        "cm = confusion_matrix(y_test, y_pred)\n",
        "print(\"Confusion Matrix: \\n\", cm)\n",
        "print(\"Model accuracy: \", accuracy_score(y_test, y_pred))"
      ]
    },
    {
      "cell_type": "code",
      "execution_count": 91,
      "metadata": {},
      "outputs": [
        {
          "data": {
            "image/png": "[encoded data removed]",
            "text/plain": [
              "<Figure size 640x480 with 2 Axes>"
            ]
          },
          "metadata": {},
          "output_type": "display_data"
        }
      ],
      "source": [
        "import matplotlib.pyplot as plt\n",
        "\n",
        "\n",
        "fig, ax = plt.subplots(ncols=1, nrows=2)\n",
        "\n",
        "ax[0].plot(history.history['loss'], label=\"Training Loss\")\n",
        "ax[0].plot(history.history['val_loss'], label=\"Test Loss\")\n",
        "ax[0].set_ylabel(\"Value Loss\")\n",
        "ax[0].set_title(\"Model Training Loss\")\n",
        "ax[0].legend()\n",
        "\n",
        "ax[1].plot(history.history['accuracy'], label=\"Training Accuracy\")\n",
        "ax[1].plot(history.history['val_accuracy'], label=\"Test Accuracy\")\n",
        "ax[1].set_ylabel(\"Value Accuracy\")\n",
        "ax[1].set_xlabel(\"Epochs\")\n",
        "ax[1].set_title(\"Model Training Accuracy\")\n",
        "ax[1].legend()\n",
        "\n",
        "plt.tight_layout()"
      ]
    }
  ],
  "metadata": {
    "colab": {
      "collapsed_sections": [],
      "name": "artificial_neural_network.ipynb",
      "provenance": [],
      "toc_visible": true
    },
    "kernelspec": {
      "display_name": "Python 3",
      "name": "python3"
    },
    "language_info": {
      "codemirror_mode": {
        "name": "ipython",
        "version": 3
      },
      "file_extension": ".py",
      "mimetype": "text/x-python",
      "name": "python",
      "nbconvert_exporter": "python",
      "pygments_lexer": "ipython3",
      "version": "3.11.2"
    }
  },
  "nbformat": 4,
  "nbformat_minor": 0
}
